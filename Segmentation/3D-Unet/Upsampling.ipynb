{
 "cells": [
  {
   "cell_type": "code",
   "execution_count": 1,
   "id": "cceadc6b",
   "metadata": {},
   "outputs": [],
   "source": [
    "import os\n",
    "import glob\n",
    "import torch\n",
    "import numpy as np\n",
    "import scipy.ndimage\n",
    "import nibabel as nib\n",
    "from torch.utils.data import Dataset\n",
    "from torchvision import transforms\n",
    "import napari"
   ]
  },
  {
   "cell_type": "code",
   "execution_count": 2,
   "id": "1cc85729",
   "metadata": {},
   "outputs": [],
   "source": [
    "path_dir_train = \"E:/train_dir/images\"\n",
    "images_train = sorted(glob.glob(os.path.join(path_dir_train,  \"*.nii.gz\")))"
   ]
  },
  {
   "cell_type": "code",
   "execution_count": 3,
   "id": "2b5b5459",
   "metadata": {},
   "outputs": [],
   "source": [
    "class MyDataset(Dataset):\n",
    "    def __init__(self, path):\n",
    "        self.images_list = [nib.load(image_path) for image_path in path]\n",
    "    \n",
    "    def __len__(self):\n",
    "        return len(self.images_list)\n",
    "\n",
    "    def __getitem__(self, idx):\n",
    "        nii_image = self.images_list[idx]\n",
    "        data = np.asarray(nii_image.dataobj)\n",
    "        return data"
   ]
  },
  {
   "cell_type": "code",
   "execution_count": 4,
   "id": "90b3a523",
   "metadata": {},
   "outputs": [],
   "source": [
    "# resampling of voxels \n",
    "def resample(data, old_spacing, new_spacing=[3,3,3]):\n",
    "    \n",
    "    old_spacing = np.asarray(old_spacing)\n",
    "    new_spacing = np.asarray(new_spacing)\n",
    "    old_spacing = [round(i,2) for i in old_spacing]\n",
    "    scale_factor = old_spacing / new_spacing\n",
    "        \n",
    "    new_shape = data.shape * scale_factor\n",
    "    new_shape = np.round(new_shape)\n",
    "    zoom_factor = new_shape / data.shape\n",
    "    new_spacing = old_spacing / zoom_factor\n",
    "    new_spacing = np.asarray(new_spacing)\n",
    "        \n",
    "    data = scipy.ndimage.zoom(data, zoom_factor, order=1, prefilter=True)\n",
    "    return data"
   ]
  },
  {
   "cell_type": "code",
   "execution_count": 5,
   "id": "a8faef81",
   "metadata": {},
   "outputs": [],
   "source": [
    "train_data = MyDataset(images_train)"
   ]
  },
  {
   "cell_type": "code",
   "execution_count": 6,
   "id": "39c9644f",
   "metadata": {},
   "outputs": [],
   "source": [
    "train_data = list(train_data)"
   ]
  },
  {
   "cell_type": "code",
   "execution_count": 7,
   "id": "955ea408",
   "metadata": {},
   "outputs": [],
   "source": [
    "for i in range(len(images_train)):\n",
    "    train_data[i] = resample(train_data[i], [1,1,3], [1,1,1])\n",
    "    train_data[i] = torch.from_numpy(train_data[i])\n",
    "    train_data[i] = transforms.functional.resize(train_data[i], size=(512,388))\n",
    "    train_data[i] = torch.reshape(train_data[i], (train_data[i].shape[0]*train_data[i].shape[1]*train_data[i].shape[2],))\n",
    "    train_data[i] = train_data[i].numpy()"
   ]
  },
  {
   "cell_type": "code",
   "execution_count": 8,
   "id": "ca065c99",
   "metadata": {},
   "outputs": [],
   "source": [
    "train_data = np.asarray(train_data)\n",
    "vec_mean = np.mean(train_data, axis=0)\n",
    "mat = np.reshape(vec_mean, (512,512,388))"
   ]
  },
  {
   "cell_type": "code",
   "execution_count": 9,
   "id": "26556964",
   "metadata": {},
   "outputs": [
    {
     "data": {
      "text/plain": [
       "(512, 512, 388)"
      ]
     },
     "execution_count": 9,
     "metadata": {},
     "output_type": "execute_result"
    }
   ],
   "source": [
    "mat.shape"
   ]
  },
  {
   "cell_type": "code",
   "execution_count": 10,
   "id": "7f1fb8de",
   "metadata": {},
   "outputs": [
    {
     "name": "stdout",
     "output_type": "stream",
     "text": [
      "-1922.341463414634 428.7560975609756\n"
     ]
    }
   ],
   "source": [
    "print(np.amin(mat),np.amax(mat)) #check the internsity range of the average image (min=-1922, max=428)"
   ]
  },
  {
   "cell_type": "code",
   "execution_count": 11,
   "id": "7ea43e7e",
   "metadata": {},
   "outputs": [
    {
     "data": {
      "text/plain": [
       "<Image layer 'mat' at 0x1e906d5a280>"
      ]
     },
     "execution_count": 11,
     "metadata": {},
     "output_type": "execute_result"
    }
   ],
   "source": [
    "V = napari.Viewer()\n",
    "V.add_image(mat)"
   ]
  }
 ],
 "metadata": {
  "kernelspec": {
   "display_name": "Python 3 (ipykernel)",
   "language": "python",
   "name": "python3"
  },
  "language_info": {
   "codemirror_mode": {
    "name": "ipython",
    "version": 3
   },
   "file_extension": ".py",
   "mimetype": "text/x-python",
   "name": "python",
   "nbconvert_exporter": "python",
   "pygments_lexer": "ipython3",
   "version": "3.9.12"
  }
 },
 "nbformat": 4,
 "nbformat_minor": 5
}
